{
 "cells": [
  {
   "cell_type": "markdown",
   "id": "531e7854-ec6d-4ccb-b17b-3ce26efd5bd1",
   "metadata": {
    "editable": true,
    "slideshow": {
     "slide_type": ""
    },
    "tags": []
   },
   "source": [
    "# 📔 Executable Jupyter Notebooks\n",
    "\n",
    "Simple example for use parametrizied cell for run parametrizied notebook with [papermill](https://papermill.readthedocs.io/en/latest/usage-execute.html)\n",
    "\n",
    "For run notebook in Ubuntu, execute next command in terminal (before run, papermill library must install):\n",
    "\n",
    "```bash\n",
    "cd folder_with_this_notebook\n",
    "\n",
    "papermill extract.ipynb -p period \"week\" -p output_file \"weather-forecast.json\" executed.ipynb\n",
    "```\n",
    "\n",
    "Так `-p period \"week\" -p output_file \"weather-forecast.json\"` передаются параметры, `executed.ipynb` - файл исполненного notebook"
   ]
  },
  {
   "cell_type": "code",
   "execution_count": 1,
   "id": "025ea0fc-6697-4e74-bd78-9ae799dc67c9",
   "metadata": {
    "editable": true,
    "slideshow": {
     "slide_type": ""
    },
    "tags": []
   },
   "outputs": [
    {
     "data": {
      "text/plain": [
       "True"
      ]
     },
     "execution_count": 1,
     "metadata": {},
     "output_type": "execute_result"
    }
   ],
   "source": [
    "import os\n",
    "import datetime as dt\n",
    "import json\n",
    "import logging\n",
    "import requests\n",
    "import typing as t\n",
    "\n",
    "from dotenv import load_dotenv\n",
    "load_dotenv()"
   ]
  },
  {
   "cell_type": "code",
   "execution_count": 2,
   "id": "89d1e87a-2337-4dab-8c67-7a116910554e",
   "metadata": {
    "editable": true,
    "slideshow": {
     "slide_type": ""
    },
    "tags": []
   },
   "outputs": [],
   "source": [
    "logging.basicConfig(\n",
    "    level=logging.DEBUG,\n",
    "    format='%(asctime)s - %(levelname)s - %(message)s',\n",
    "    datefmt='%Y-%m-%d %H:%M:%S'\n",
    ")"
   ]
  },
  {
   "cell_type": "code",
   "execution_count": 3,
   "id": "cd4fc5aa-1221-460f-b881-cee6bb59d824",
   "metadata": {
    "editable": true,
    "slideshow": {
     "slide_type": ""
    },
    "tags": [
     "parameters"
    ]
   },
   "outputs": [],
   "source": [
    "# external params\n",
    "period = \"day\"\n",
    "output_file = \"output.json\"\n",
    "\n",
    "logging.info(f\"Input params: period: {period}, output_file: {output_file}\")"
   ]
  },
  {
   "cell_type": "code",
   "execution_count": 4,
   "id": "042b5b10-4b8b-4e3a-a48d-debb142aab8f",
   "metadata": {
    "editable": true,
    "slideshow": {
     "slide_type": ""
    },
    "tags": []
   },
   "outputs": [],
   "source": [
    "def get_forecast_data(params: t.Dict) -> t.Dict:\n",
    "    \"\"\"\n",
    "    params: Dict = {\"lat\": ...., \"lon\": ....}\n",
    "    \"\"\"\n",
    "    try:\n",
    "        params.update({\"appid\": os.getenv(\"OPEN_WEATHER_MAP_API_KEY\")})\n",
    "        url = \"https://api.openweathermap.org/data/2.5/forecast\"\n",
    "        response = requests.get(url, params=params)\n",
    "        response.raise_for_status()\n",
    "    \n",
    "        return response.json()\n",
    "    except Exception as e:\n",
    "        logging.debug(e)\n",
    "        return None\n",
    "\n",
    "def save_data(response: t.Dict, output_file=output_file):\n",
    "    with open(output_file, 'w') as f:\n",
    "        f.write(json.dumps(response))"
   ]
  },
  {
   "cell_type": "code",
   "execution_count": 5,
   "id": "6b6c2b10-b7b2-4805-81d8-df19ca664a97",
   "metadata": {
    "editable": true,
    "slideshow": {
     "slide_type": ""
    },
    "tags": []
   },
   "outputs": [
    {
     "name": "stderr",
     "output_type": "stream",
     "text": [
      "2024-01-31 08:47:32 - INFO - 📝 Preparing params\n",
      "2024-01-31 08:47:32 - INFO - ⚙️ API Calling\n",
      "2024-01-31 08:47:32 - DEBUG - Starting new HTTPS connection (1): api.openweathermap.org:443\n",
      "2024-01-31 08:47:33 - DEBUG - https://api.openweathermap.org:443 \"GET /data/2.5/forecast?lat=55.567586&lon=38.225004&appid=911496c99c084b2a54972e4debd03cb7 HTTP/1.1\" 200 16297\n",
      "2024-01-31 08:47:33 - INFO - 🗑 Saving response\n"
     ]
    }
   ],
   "source": [
    "logging.info(\"📝 Preparing params\")\n",
    "params = {\n",
    "    \"lat\": 55.567586,\n",
    "    \"lon\": 38.225004\n",
    "}\n",
    "\n",
    "logging.info(\"⚙️ API Calling\")\n",
    "response = get_forecast_data(params=params)\n",
    "\n",
    "\n",
    "if response:\n",
    "    logging.info(\"🗑 Saving response\")\n",
    "    save_data(response=response)"
   ]
  }
 ],
 "metadata": {
  "kernelspec": {
   "display_name": "Python 3 (ipykernel)",
   "language": "python",
   "name": "python3"
  },
  "language_info": {
   "codemirror_mode": {
    "name": "ipython",
    "version": 3
   },
   "file_extension": ".py",
   "mimetype": "text/x-python",
   "name": "python",
   "nbconvert_exporter": "python",
   "pygments_lexer": "ipython3",
   "version": "3.10.12"
  }
 },
 "nbformat": 4,
 "nbformat_minor": 5
}
